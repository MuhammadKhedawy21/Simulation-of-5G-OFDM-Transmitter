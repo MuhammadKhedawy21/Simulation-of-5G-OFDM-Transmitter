{
  "nbformat": 4,
  "nbformat_minor": 0,
  "metadata": {
    "colab": {
      "name": "Simulation of 5G OFDM Transmitter.ipynb",
      "provenance": [],
      "collapsed_sections": []
    },
    "kernelspec": {
      "name": "python3",
      "display_name": "Python 3"
    }
  },
  "cells": [
    {
      "cell_type": "code",
      "metadata": {
        "id": "FFEUIsCrQbf2"
      },
      "source": [
        "#Import the Libraries\r\n",
        "import math\r\n",
        "import numpy as np\r\n",
        "from numpy.fft import ifft\r\n",
        "import matplotlib.pyplot as plt"
      ],
      "execution_count": 1,
      "outputs": []
    },
    {
      "cell_type": "code",
      "metadata": {
        "id": "A-Cq3a-URzYg",
        "colab": {
          "base_uri": "https://localhost:8080/"
        },
        "outputId": "f99119f6-ee4b-4d7e-c004-a188388594c2"
      },
      "source": [
        "#Inputs from the user\r\n",
        "nan = math.nan\r\n",
        "loop = True\r\n",
        "Nrb_table = np.array([[25, 52, 79, 106, 133, 160, 216, 270, nan, nan, nan, nan],\r\n",
        "                      [11, 24, 38, 51, 65, 78, 106, 133, 162, 217, 245, 273],\r\n",
        "                      [nan, 11, 18, 24, 31, 38, 51, 65, 79, 107, 121, 135]])      #Number of resource block table\r\n",
        "scs_range = 1e3* np.array([15, 30, 60])                                           #subcarrier spacing range \r\n",
        "bandwidth_range = 1e6* np.array([5, 10, 15, 20, 25, 30, 40, 50, 60, 80, 90, 100]) #Bandwidth range between 5MHz and 100MHz\r\n",
        "\r\n",
        "\r\n",
        "#Get the values of the SCS and Bandwidth\r\n",
        "while loop == True:\r\n",
        "  scs, bandwidth = map(float, input(\"Enter a value for subcarrier spacing and bandwidth: \").split())\r\n",
        "  if ((scs in scs_range) and (bandwidth in bandwidth_range)):\r\n",
        "    Nrb = Nrb_table[np.where(scs_range==scs), np.where(bandwidth_range==bandwidth)]#Get the nrb value for the specified scs and bandwidth\r\n",
        "    if np.isnan(Nrb):\r\n",
        "      print(\"Enter a valid (scs, bandwidth) pair for which Nrb is not nan\")\r\n",
        "    else:\r\n",
        "      loop = False\r\n",
        "  else:\r\n",
        "    print(\"Choose values for scs and bandwidth from the following list\")\r\n",
        "    print(\"SCS values: \", scs_range)\r\n",
        "    print(\"Bandwidth_range: \", bandwidth_range)\r\n",
        "\r\n",
        "\r\n",
        "#Get the desired modulation scheme\r\n",
        "print(\"Select a modulation scheme from the following: \")\r\n",
        "print(\"1. QPSK\")\r\n",
        "print(\"2. 16QAM\")\r\n",
        "print(\"3. 64QAM\")\r\n",
        "mod_type = input()                                                                          # Get the type of modulation scheme to be used\r\n",
        "M_dict = {\"QPSK\": 4,  \"16QAM\": 16,  \"64QAM\": 64}                                            # Dictionary containing the M values for each modulation type\r\n",
        "M = M_dict[mod_type]                                                                        # M value of the modulation scheme selected\r\n",
        "\r\n",
        "#Predefined parameters\r\n",
        "P_tx = 40                                                                                   # Transmitter power\r\n",
        "mu = np.where(scs_range==scs)[0][0]                                                         # Determines the number of slots in a subframe\r\n",
        "N_fft = 4096                                                                                # Number of fft taps in 5G\r\n",
        "N_subcar = int(Nrb[0, 0] * 12)                                                              # Number of subcarriers per OFDM symbol\r\n",
        "N_frames = 100                                                                              # Total number of frames\r\n",
        "N_subframes = 10                                                                            # Number of subframes per frame\r\n",
        "N_slots = (2**mu)                                                                           # Number of slots in a subframe\r\n",
        "N_ofdm_symbols = 14                                                                         # Number of ofdm symbols per slot\r\n",
        "Total_bits = N_subcar* math.log(M, 2)* N_ofdm_symbols* N_slots* N_subframes* N_frames       # Total number of bits generated"
      ],
      "execution_count": 50,
      "outputs": [
        {
          "output_type": "stream",
          "text": [
            "Enter a value for subcarrier spacing and bandwidth: 30000 100.0e+06\n",
            "Select a modulation scheme from the following: \n",
            "1. QPSK\n",
            "2. 16QAM\n",
            "3. 64QAM\n",
            "64QAM\n"
          ],
          "name": "stdout"
        }
      ]
    },
    {
      "cell_type": "code",
      "metadata": {
        "id": "CpPB1Z-zlXlz",
        "colab": {
          "base_uri": "https://localhost:8080/",
          "height": 686
        },
        "outputId": "dcbf03c7-1137-4eb5-9677-7c6026d14ef4"
      },
      "source": [
        "#Pre-allocating papr vector with zero values\r\n",
        "papr = np.zeros(N_frames* N_subframes* N_slots* N_ofdm_symbols)\r\n",
        "ppr = np.zeros(N_frames* N_subframes* N_slots* N_ofdm_symbols)\r\n",
        "avg_pr = np.zeros(N_frames* N_subframes* N_slots* N_ofdm_symbols)\r\n",
        "\r\n",
        "def ppr_ccdf(ppr):\r\n",
        "  bins = np.sort(ppr)\r\n",
        "  cdf  = np.linspace(0,1,len(bins),endpoint=False)\r\n",
        "  ccdf = 1 - cdf\r\n",
        "  return [bins, ccdf]\r\n",
        "\r\n",
        "p = 0\r\n",
        "\r\n",
        "#Loop over each OFDM symbol\r\n",
        "for frame in range(N_frames):\r\n",
        "  if frame%10 == 0:\r\n",
        "    print(\"Frame\", frame, \"finished\")\r\n",
        "  for subframe in range(N_subframes):\r\n",
        "    for slot in range(N_slots):\r\n",
        "      for symbol in range(N_ofdm_symbols):\r\n",
        "        N_bits = int(math.log(M, 2)* N_fft)\r\n",
        "        \r\n",
        "        # Generating a new OFDM symbol in each iteration of the loop\r\n",
        "        x_data = np.random.randint(2, size = N_bits)\r\n",
        "        modulated_sym = np.zeros((1, N_fft), dtype='complex_')\r\n",
        "        \r\n",
        "        # Performing the desired modulation scheme on each OFDM symbol\r\n",
        "        if mod_type == 'QPSK':\r\n",
        "          for i in range(N_fft):\r\n",
        "            modulated_sym[0, i] = (1/np.sqrt(2))*((1-2*x_data[2*i])+ (1j*(1-2*x_data[(2*i)+1])))\r\n",
        "        elif mod_type == '16QAM':\r\n",
        "          for i in range(N_fft):\r\n",
        "            modulated_sym[0, i] = (1/np.sqrt(10))*((1-2*x_data[4*i])*(2-(1-2*x_data[(4*i)+2]))+ (1j*(1-2*x_data[(4*i)+1])*(2-(1-2*x_data[(4*i)+3]))))\r\n",
        "        elif mod_type == '64QAM':\r\n",
        "          for i in range(N_fft):\r\n",
        "            modulated_sym[0, i] = (1/np.sqrt(42))*((1-2*x_data[6*i])*(4-(1- 2*x_data[(6*i)+2])*(2-(1-2*x_data[(6*i)+4]))) + (1j*(1-2*x_data[(6*i)+1])*(4-(1- 2*x_data[(6*i)+3])*(2-(1-2*x_data[(6*i)+5])))))\r\n",
        "        \r\n",
        "        # Performing IFFT on the modulated OFDM symbols\r\n",
        "        x_n = ifft(modulated_sym, norm= 'ortho')\r\n",
        "\r\n",
        "        #Calculation of length of cyclic prefix\r\n",
        "        if symbol == 0 or symbol == 7*N_slots:\r\n",
        "          cp_length = (288 + 162**(mu+1))\r\n",
        "        else:\r\n",
        "          cp_length = 288\r\n",
        "        \r\n",
        "        #Adding the cyclic prefix to the OFDM symbols\r\n",
        "        x_n_with_cp = np.append(x_n[-cp_length:],x_n)\r\n",
        "\r\n",
        "        #Calculation of the power of the given symbol\r\n",
        "        ppr[p] = np.max(np.abs(x_n_with_cp)**2)\r\n",
        "        avg_pr[p] = np.mean(np.abs(x_n_with_cp)**2)\r\n",
        "        papr[p] = ppr[p]/avg_pr[p]\r\n",
        "        p += 1\r\n",
        "\r\n",
        "r,ccdf = ppr_ccdf(papr)\r\n",
        "\r\n",
        "plt.rcParams['figure.figsize'] = [12, 8]\r\n",
        "plt.semilogy(10*np.log10(r), ccdf,'r',lw=2 )\r\n",
        "plt.xlabel(r'$PAPR$ (dB)')\r\n",
        "plt.ylabel(r'Prob(PAPR > $P_0$)')\r\n",
        "plt.axis([8,13,1e-4,1])\r\n",
        "plt.grid(True)\r\n",
        "plt.title('PAPR CCDF for ' + str(mod_type))\r\n",
        "plt.show()"
      ],
      "execution_count": 51,
      "outputs": [
        {
          "output_type": "stream",
          "text": [
            "Frame 0 finished\n",
            "Frame 10 finished\n",
            "Frame 20 finished\n",
            "Frame 30 finished\n",
            "Frame 40 finished\n",
            "Frame 50 finished\n",
            "Frame 60 finished\n",
            "Frame 70 finished\n",
            "Frame 80 finished\n",
            "Frame 90 finished\n"
          ],
          "name": "stdout"
        },
        {
          "output_type": "display_data",
          "data": {
            "image/png": "[encoded data removed]",
            "text/plain": [
              "<Figure size 864x576 with 1 Axes>"
            ]
          },
          "metadata": {
            "tags": [],
            "needs_background": "light"
          }
        }
      ]
    },
    {
      "cell_type": "code",
      "metadata": {
        "colab": {
          "base_uri": "https://localhost:8080/"
        },
        "id": "6yHYXZAN02GP",
        "outputId": "9dee6723-6195-4261-ad63-46d90f4ebf92"
      },
      "source": [
        "n_symbols_per_1ms_subframe = N_slots* N_ofdm_symbols                                  # Number of OFDM symbols in a subframe\r\n",
        "Tc = 1/(scs * N_fft)                                                                  # basic unit of 5G\r\n",
        "Ts = 1/(15.0e+03 * 2048)                                                              # sampling period of 4G LTE\r\n",
        "kappa = Ts/Tc                                                                         # relationship between Ts and Tc\r\n",
        "fsamp = 1/(Tc*1e6)                                                                    # sampling rate of 5G\r\n",
        "occ_bandwidth = ((Nrb[0][0]* scs* 12)+ scs)/1000000                                   # the occupied bandwidth in MHz\r\n",
        "cp_long = (288 + 16*2**(mu+1))                                                        # the length of the longest cyclic prefix\r\n",
        "cp_short = 288                                                                        # the length of the shortest cyclic prefix\r\n",
        "max_papr = max(papr)                                                                  # the maximal peak to average power ratio\r\n",
        "avg_power = np.mean(avg_pr)* P_tx                                                     # Average simulated power\r\n",
        "prob = 0.0001\r\n",
        "papr_at_prob = 10*np.log10(r[np.where(ccdf==min(ccdf[np.where(ccdf<=prob)]))[0][0]])\r\n",
        "\r\n",
        "# Printing the numerical outputs\r\n",
        "print(\"Average Simulated power: {:3.4f}\".format(avg_power))\r\n",
        "print(\"Maximal PAPR: {:3.4f} (linear)\".format(max_papr))\r\n",
        "print(\"OFDM data length: {}\".format(int(Total_bits)))\r\n",
        "print(\"PAPR at 0.0001 probablity: {:3.3f} dB\".format(papr_at_prob))\r\n",
        "print(\"Occupied Bandwidth: {} MHz, Basic unit in 5G, Tc: {:5.4f} ns, sampling rate: {} Msps\". format(occ_bandwidth, 1e9*Tc, fsamp))\r\n",
        "print(\"kappa: {}, CP_Long: {}, CP_short: {}\". format(kappa, cp_long, cp_short))\r\n",
        "print(\"Number of ofdm symbols in a 1ms subframe:\", n_symbols_per_1ms_subframe)"
      ],
      "execution_count": 52,
      "outputs": [
        {
          "output_type": "stream",
          "text": [
            "Average Simulated power: 40.0010\n",
            "Maximal PAPR: 18.2632 (linear)\n",
            "OFDM data length: 550368000\n",
            "PAPR at 0.0001 probablity: 12.616 dB\n",
            "Occupied Bandwidth: 98.31 MHz, Basic unit in 5G, Tc: 8.1380 ns, sampling rate: 122.88 Msps\n",
            "kappa: 4.0, CP_Long: 352, CP_short: 288\n",
            "Number of ofdm symbols in a 1ms subframe: 28\n"
          ],
          "name": "stdout"
        }
      ]
    }
  ]
}
